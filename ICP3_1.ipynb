{
  "nbformat": 4,
  "nbformat_minor": 0,
  "metadata": {
    "colab": {
      "provenance": [],
      "mount_file_id": "1DOFmUDO_t94lkAnxB6rAzXwm4oLAltTf",
      "authorship_tag": "ABX9TyPZoywBlP9WaAmqmPRNfXA3",
      "include_colab_link": true
    },
    "kernelspec": {
      "name": "python3",
      "display_name": "Python 3"
    },
    "language_info": {
      "name": "python"
    }
  },
  "cells": [
    {
      "cell_type": "markdown",
      "metadata": {
        "id": "view-in-github",
        "colab_type": "text"
      },
      "source": [
        "<a href=\"https://colab.research.google.com/github/ianbennett41430/ICP3.1/blob/main/ICP3_1.ipynb\" target=\"_parent\"><img src=\"https://colab.research.google.com/assets/colab-badge.svg\" alt=\"Open In Colab\"/></a>"
      ]
    },
    {
      "cell_type": "markdown",
      "source": [
        "Part 1.a\n"
      ],
      "metadata": {
        "id": "oBets8PqhvvN"
      }
    },
    {
      "cell_type": "code",
      "source": [
        "#imports numpy\n",
        "import numpy as np\n",
        "#makes a random vector\n",
        "random_vector = np.random.randint(1, 21, size=15)\n",
        "\n",
        "#reshapes the vector\n",
        "reshaped_array = random_vector.reshape(3, 5)\n",
        "\n",
        "#prints the shape of the array\n",
        "print(\"Shape of the array:\", reshaped_array.shape)\n",
        "\n",
        "#prints the random array\n",
        "print(\"Random array: \\n\", reshaped_array)\n",
        "\n",
        "#replaces the largest value with 0\n",
        "reshaped_array[np.arange(len(reshaped_array)), np.argmax(reshaped_array, axis=1)] = 0\n",
        "\n",
        "#prints modified array\n",
        "print(\"Array after replacing max in each row by 0:\\n\", reshaped_array)\n"
      ],
      "metadata": {
        "colab": {
          "base_uri": "https://localhost:8080/"
        },
        "id": "v_MbY2Efh0Nm",
        "outputId": "12b6775e-f397-43a9-f3a6-a318b90834cc"
      },
      "execution_count": null,
      "outputs": [
        {
          "output_type": "stream",
          "name": "stdout",
          "text": [
            "Shape of the array: (3, 5)\n",
            "Random array: \n",
            " [[10 20 15 14 12]\n",
            " [ 4 11 16 13  7]\n",
            " [ 6 10  3  9 10]]\n",
            "Array after replacing max in each row by 0:\n",
            " [[10  0 15 14 12]\n",
            " [ 4 11  0 13  7]\n",
            " [ 6  0  3  9 10]]\n"
          ]
        }
      ]
    },
    {
      "cell_type": "markdown",
      "source": [
        "Part 1.b"
      ],
      "metadata": {
        "id": "LE3aLptniOkN"
      }
    },
    {
      "cell_type": "code",
      "source": [
        "import numpy as np\n",
        "#builds the array\n",
        "array = np.array([[3, -2],\n",
        "                  [1, 0]])\n",
        "#calculates eigenvalues and right eigenvectors of the array\n",
        "eigenvalues, eigenvectors = np.linalg.eig(array)\n",
        "\n",
        "#prints the eigenvalues and right eigenvectors\n",
        "print(\"Eigenvalues:\", eigenvalues)\n",
        "print(\"Right Eigenvectors:\", eigenvectors)\n"
      ],
      "metadata": {
        "colab": {
          "base_uri": "https://localhost:8080/"
        },
        "id": "RN6gkZuRiUB-",
        "outputId": "122278ab-2fc1-4680-f0ef-672538d00090"
      },
      "execution_count": null,
      "outputs": [
        {
          "output_type": "stream",
          "name": "stdout",
          "text": [
            "Eigenvalues: [2. 1.]\n",
            "Right Eigenvectors: [[0.89442719 0.70710678]\n",
            " [0.4472136  0.70710678]]\n"
          ]
        }
      ]
    },
    {
      "cell_type": "markdown",
      "source": [
        "Part 1.c"
      ],
      "metadata": {
        "id": "PK5d5boKi9-E"
      }
    },
    {
      "cell_type": "code",
      "source": [
        "import numpy as np\n",
        "#builds the array\n",
        "array = np.array([[0, 1, 2],\n",
        "                  [3, 4, 5]])\n",
        "#calculates the diagnal sum\n",
        "diagonal_sum = np.trace(array)\n",
        "\n",
        "#prints the sum of the diagnals\n",
        "print(\"Sum of diagonal elements:\", diagonal_sum)\n"
      ],
      "metadata": {
        "colab": {
          "base_uri": "https://localhost:8080/"
        },
        "id": "IbCQEjLRjAiH",
        "outputId": "f4d4c54d-e47e-4e6f-efee-2ce464ace4ff"
      },
      "execution_count": null,
      "outputs": [
        {
          "output_type": "stream",
          "name": "stdout",
          "text": [
            "Sum of diagonal elements: 4\n"
          ]
        }
      ]
    },
    {
      "cell_type": "markdown",
      "source": [
        "Part 1.d"
      ],
      "metadata": {
        "id": "jJxS4WdTjM4s"
      }
    },
    {
      "cell_type": "code",
      "source": [
        "import numpy as np\n",
        "#builds the array\n",
        "array = np.array([[1, 2],\n",
        "                  [3, 4],\n",
        "                  [5, 6]])\n",
        "#reshapes the array to a 2x3\n",
        "reshaped_array_1 = np.reshape(array, (2, 3))\n",
        "\n",
        "#reshapes the array to a 3x2\n",
        "reshaped_array_2 = np.reshape(array, (3, 2))\n",
        "\n",
        "#prints both arrays\n",
        "print(\"Reshaped array 1 (2x3):\\n\", reshaped_array_1)\n",
        "print(\"Reshaped array 2 (3x2):\\n\", reshaped_array_2)\n"
      ],
      "metadata": {
        "colab": {
          "base_uri": "https://localhost:8080/"
        },
        "id": "XOHKtXMxkB6M",
        "outputId": "177eece7-177c-4000-b9b4-96d14a51d474"
      },
      "execution_count": null,
      "outputs": [
        {
          "output_type": "stream",
          "name": "stdout",
          "text": [
            "Reshaped array 1 (2x3):\n",
            " [[1 2 3]\n",
            " [4 5 6]]\n",
            "Reshaped array 2 (3x2):\n",
            " [[1 2]\n",
            " [3 4]\n",
            " [5 6]]\n"
          ]
        }
      ]
    },
    {
      "cell_type": "markdown",
      "source": [
        "Part 2"
      ],
      "metadata": {
        "id": "TNDJpXz9OxxY"
      }
    },
    {
      "cell_type": "code",
      "source": [
        "import pandas as pd\n",
        "\n",
        "#imports csv\n",
        "df = pd.read_csv(\"data.csv\")\n",
        "\n",
        "#shows basic statistical description\n",
        "description = df.describe()\n",
        "print(\"Basic Statistical Description:\")\n",
        "print(description)\n",
        "\n",
        "#checks for null values\n",
        "print(\"\\nNull values check:\")\n",
        "print(df.isnull().sum())\n",
        "\n",
        "#replaces null values with the mean\n",
        "df.fillna(df.mean(), inplace=True)\n",
        "\n",
        "#finds aggregate data of the last 2 columns using min, max, count, mean for two columns\n",
        "aggregated_data = df[['Duration', 'Pulse']].agg(['min', 'max', 'count', 'mean'])\n",
        "print(\"\\nAggregated Data:\")\n",
        "print(aggregated_data)\n",
        "\n",
        "#filters rows with calories values between 500 and 1000\n",
        "calories_filter = df[(df['Calories'] >= 500) & (df['Calories'] <= 1000)]\n",
        "\n",
        "#filters rows with calories values > 500 and pulse < 100\n",
        "filter_condition = (df['Calories'] > 500) & (df['Pulse'] < 100)\n",
        "filtered_df = df[filter_condition]\n",
        "\n",
        "#creates new df_modified dataframe without maxpulse\n",
        "df_modified = df.drop(columns=['Maxpulse'])\n",
        "\n",
        "#deleates maxpuse\n",
        "df.drop(columns=['Maxpulse'], inplace=True)\n",
        "\n",
        "#converts datatype of calories to int\n",
        "df['Calories'] = df['Calories'].astype(int)\n",
        "\n",
        "#prints a sample of the dataframes\n",
        "print(\"\\nSample of df_modified dataframe:\")\n",
        "print(df_modified.head())\n",
        "\n",
        "print(\"\\nSample of df dataframe after modifications:\")\n",
        "print(df.head())\n"
      ],
      "metadata": {
        "colab": {
          "base_uri": "https://localhost:8080/"
        },
        "id": "V41_JMNDO2Ps",
        "outputId": "e83cb014-4aa1-4c4e-afd1-928b9c6100fe"
      },
      "execution_count": null,
      "outputs": [
        {
          "output_type": "stream",
          "name": "stdout",
          "text": [
            "Basic Statistical Description:\n",
            "         Duration       Pulse    Maxpulse     Calories\n",
            "count  169.000000  169.000000  169.000000   164.000000\n",
            "mean    63.846154  107.461538  134.047337   375.790244\n",
            "std     42.299949   14.510259   16.450434   266.379919\n",
            "min     15.000000   80.000000  100.000000    50.300000\n",
            "25%     45.000000  100.000000  124.000000   250.925000\n",
            "50%     60.000000  105.000000  131.000000   318.600000\n",
            "75%     60.000000  111.000000  141.000000   387.600000\n",
            "max    300.000000  159.000000  184.000000  1860.400000\n",
            "\n",
            "Null values check:\n",
            "Duration    0\n",
            "Pulse       0\n",
            "Maxpulse    0\n",
            "Calories    5\n",
            "dtype: int64\n",
            "\n",
            "Aggregated Data:\n",
            "         Duration       Pulse\n",
            "min     15.000000   80.000000\n",
            "max    300.000000  159.000000\n",
            "count  169.000000  169.000000\n",
            "mean    63.846154  107.461538\n",
            "\n",
            "Sample of df_modified dataframe:\n",
            "   Duration  Pulse  Calories\n",
            "0        60    110     409.1\n",
            "1        60    117     479.0\n",
            "2        60    103     340.0\n",
            "3        45    109     282.4\n",
            "4        45    117     406.0\n",
            "\n",
            "Sample of df dataframe after modifications:\n",
            "   Duration  Pulse  Calories\n",
            "0        60    110       409\n",
            "1        60    117       479\n",
            "2        60    103       340\n",
            "3        45    109       282\n",
            "4        45    117       406\n"
          ]
        }
      ]
    }
  ]
}